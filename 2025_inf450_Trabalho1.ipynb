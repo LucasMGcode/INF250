{
  "nbformat": 4,
  "nbformat_minor": 0,
  "metadata": {
    "colab": {
      "provenance": [],
      "include_colab_link": true
    },
    "kernelspec": {
      "name": "python3",
      "display_name": "Python 3"
    },
    "language_info": {
      "name": "python"
    }
  },
  "cells": [
    {
      "cell_type": "markdown",
      "metadata": {
        "id": "view-in-github",
        "colab_type": "text"
      },
      "source": [
        "<a href=\"https://colab.research.google.com/github/LucasMGcode/INF250/blob/main/2025_inf450_Trabalho1.ipynb\" target=\"_parent\"><img src=\"https://colab.research.google.com/assets/colab-badge.svg\" alt=\"Open In Colab\"/></a>"
      ]
    },
    {
      "cell_type": "markdown",
      "source": [
        "# Trabalho 1 - Inf450 - 2025\n",
        "\n",
        "**Nomes e Matriculas**\n",
        "\n",
        "1.\n",
        "\n",
        "2.\n",
        "\n",
        "3.\n",
        "\n",
        "4.\n",
        "\n",
        "5.\n"
      ],
      "metadata": {
        "id": "h1wX-GPlDBJq"
      }
    },
    {
      "cell_type": "markdown",
      "source": [
        "## Especificação\n",
        "\n",
        "1. Entrada é um código assembler com editor\n",
        "\n",
        "*  um botão para executar passo a passo,\n",
        "* botões para configurar:\n",
        "   * números de estacoes tem para Load/Store, para ADDF e para MULF.\n",
        "   * Tempo de execução para LS, addf e multf. Por default: 2 load, 3 addf, 5 multf. Por default ter 3 LS, 2 ADD e 2 MULT nas estações de reserva.\n",
        "\n",
        "* mostrar  a tabela de execução\n",
        "* Fazer 5 exemplos, incluindo os 2 desta aula.\n",
        "* Poder entrar com valores para os registradores\n",
        "* Mostrar o banco de registradores\n",
        "* Preencher valores de memoria e mostrar o conteúdo da memória\n",
        "* Executar um conjunto mínimo: addf, multf, ld, sd, add, addi, bne\n",
        "\n"
      ],
      "metadata": {
        "id": "YhBmwmiNDLlL"
      }
    },
    {
      "cell_type": "code",
      "execution_count": null,
      "metadata": {
        "id": "euB-dA2CC_6R"
      },
      "outputs": [],
      "source": []
    }
  ]
}